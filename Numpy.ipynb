{
 "cells": [
  {
   "cell_type": "code",
   "execution_count": 17,
   "id": "1ee513da-4ef8-49dc-9c72-cb65b42c53a6",
   "metadata": {},
   "outputs": [],
   "source": [
    "import numpy as np"
   ]
  },
  {
   "cell_type": "code",
   "execution_count": 21,
   "id": "195c0dff-aab8-40b3-b77f-7a0d2ce5f2ec",
   "metadata": {},
   "outputs": [],
   "source": [
    "myarr = np.array([[1,2,3,4]], np.int32)"
   ]
  },
  {
   "cell_type": "markdown",
   "id": "6acc3f05-6e79-411a-acd1-15c2ea98cfdf",
   "metadata": {},
   "source": [
    "[[]] is a 2 dimensional array"
   ]
  },
  {
   "cell_type": "code",
   "execution_count": 22,
   "id": "51f7e159-7ec7-4824-900e-a8552ba538f9",
   "metadata": {},
   "outputs": [
    {
     "data": {
      "text/plain": [
       "array([[1, 2, 3, 4]])"
      ]
     },
     "execution_count": 22,
     "metadata": {},
     "output_type": "execute_result"
    }
   ],
   "source": [
    "myarr"
   ]
  },
  {
   "cell_type": "markdown",
   "id": "9f5c4186-8435-403d-972b-968fe4814701",
   "metadata": {},
   "source": [
    "np.int64 se hum memory management krskte ke per integer kitne bit ka hoga if isse se zyada doge tu error aaega int8, int32, float8, float32, float64 etc hoskta hai. by default int32 hota hai int ka size"
   ]
  },
  {
   "cell_type": "code",
   "execution_count": 23,
   "id": "f7224b14-d799-47e9-9834-50860e790699",
   "metadata": {},
   "outputs": [
    {
     "data": {
      "text/plain": [
       "4"
      ]
     },
     "execution_count": 23,
     "metadata": {},
     "output_type": "execute_result"
    }
   ],
   "source": [
    "myarr.itemsize"
   ]
  },
  {
   "cell_type": "code",
   "execution_count": 24,
   "id": "b9649a8d-6e8b-4361-bb6f-5df774e858f7",
   "metadata": {},
   "outputs": [],
   "source": [
    "myarr = np.array([1,2,3,4], dtype=np.float64)"
   ]
  },
  {
   "cell_type": "code",
   "execution_count": 25,
   "id": "eab7c515-4030-401e-9c09-ca1dc834e8f4",
   "metadata": {},
   "outputs": [
    {
     "data": {
      "text/plain": [
       "8"
      ]
     },
     "execution_count": 25,
     "metadata": {},
     "output_type": "execute_result"
    }
   ],
   "source": [
    "myarr.itemsize #8 is wja se aaya hai bcz float 8 byte ka hota hai"
   ]
  },
  {
   "cell_type": "code",
   "execution_count": 26,
   "id": "af557cfb-4e93-42d7-ad8e-28fa9eae3ca8",
   "metadata": {},
   "outputs": [
    {
     "data": {
      "text/plain": [
       "array([1., 2., 3., 4.])"
      ]
     },
     "execution_count": 26,
     "metadata": {},
     "output_type": "execute_result"
    }
   ],
   "source": [
    "myarr"
   ]
  },
  {
   "cell_type": "code",
   "execution_count": 27,
   "id": "06b039f9-7332-41d1-9546-84a289c853d3",
   "metadata": {},
   "outputs": [],
   "source": [
    "myarr = np.array([1,2,3,4], dtype=complex)"
   ]
  },
  {
   "cell_type": "code",
   "execution_count": 28,
   "id": "fa9b55ac-f698-495e-81da-bd6ca01fdcdc",
   "metadata": {},
   "outputs": [
    {
     "data": {
      "text/plain": [
       "array([1.+0.j, 2.+0.j, 3.+0.j, 4.+0.j])"
      ]
     },
     "execution_count": 28,
     "metadata": {},
     "output_type": "execute_result"
    }
   ],
   "source": [
    "myarr"
   ]
  },
  {
   "cell_type": "code",
   "execution_count": 4,
   "id": "93a1873d-819c-4a06-9a71-9ceefe757cd0",
   "metadata": {},
   "outputs": [
    {
     "data": {
      "text/plain": [
       "(1, 4)"
      ]
     },
     "execution_count": 4,
     "metadata": {},
     "output_type": "execute_result"
    }
   ],
   "source": [
    "myarr.shape"
   ]
  },
  {
   "cell_type": "markdown",
   "id": "9443371a-2b27-4d9d-8683-b01860248a75",
   "metadata": {},
   "source": [
    "myarr.shape se ye pta chal gya ke array me 1 row 4 columns hai"
   ]
  },
  {
   "cell_type": "code",
   "execution_count": 5,
   "id": "53067263-2ef5-41e6-a6a0-dc35df849fff",
   "metadata": {},
   "outputs": [
    {
     "data": {
      "text/plain": [
       "dtype('int64')"
      ]
     },
     "execution_count": 5,
     "metadata": {},
     "output_type": "execute_result"
    }
   ],
   "source": [
    "myarr.dtype"
   ]
  },
  {
   "cell_type": "markdown",
   "id": "102fc595-db63-4900-ab71-0c4b8f2fe1f2",
   "metadata": {},
   "source": [
    "myarr.dtype se per integer ki bit pta chlta"
   ]
  },
  {
   "cell_type": "code",
   "execution_count": 6,
   "id": "c0c01713-08b6-4722-a7dc-10af43f7d2a4",
   "metadata": {},
   "outputs": [
    {
     "data": {
      "text/plain": [
       "array([1, 2, 3, 4], dtype=int64)"
      ]
     },
     "execution_count": 6,
     "metadata": {},
     "output_type": "execute_result"
    }
   ],
   "source": [
    "myarr[0]"
   ]
  },
  {
   "cell_type": "code",
   "execution_count": 7,
   "id": "2ddbc796-5bc4-4e3f-b665-06a20186d104",
   "metadata": {},
   "outputs": [
    {
     "data": {
      "text/plain": [
       "2"
      ]
     },
     "execution_count": 7,
     "metadata": {},
     "output_type": "execute_result"
    }
   ],
   "source": [
    "myarr[0,1]"
   ]
  },
  {
   "cell_type": "markdown",
   "id": "d0be6e07-1c45-44b6-a8e5-40f83d0453cd",
   "metadata": {},
   "source": [
    "myarr[0,1] this is use for indexing"
   ]
  },
  {
   "cell_type": "code",
   "execution_count": 8,
   "id": "09fe952a-d7fc-4527-9453-000d5038ebf9",
   "metadata": {},
   "outputs": [],
   "source": [
    "myarr[0,1] = 45"
   ]
  },
  {
   "cell_type": "markdown",
   "id": "e3e4d0f9-284a-47b7-8192-4a1d02029b24",
   "metadata": {},
   "source": [
    "above suntax se values change kr skte hai"
   ]
  },
  {
   "cell_type": "code",
   "execution_count": 9,
   "id": "febef758-5a5c-4ef7-9a34-76e884c0a783",
   "metadata": {},
   "outputs": [
    {
     "data": {
      "text/plain": [
       "array([[ 1, 45,  3,  4]], dtype=int64)"
      ]
     },
     "execution_count": 9,
     "metadata": {},
     "output_type": "execute_result"
    }
   ],
   "source": [
    "myarr"
   ]
  },
  {
   "cell_type": "code",
   "execution_count": 10,
   "id": "3da63fe7-7ba7-4505-a60f-95fec6bf7fe4",
   "metadata": {},
   "outputs": [],
   "source": [
    "new = np.array({1:\"Nabeed\", 2:\"Filza\", 3:\"Sualiha\"})"
   ]
  },
  {
   "cell_type": "code",
   "execution_count": 11,
   "id": "5592a05a-2d4a-4335-b87c-c4068c916b20",
   "metadata": {},
   "outputs": [
    {
     "data": {
      "text/plain": [
       "array({1: 'Nabeed', 2: 'Filza', 3: 'Sualiha'}, dtype=object)"
      ]
     },
     "execution_count": 11,
     "metadata": {},
     "output_type": "execute_result"
    }
   ],
   "source": [
    "new"
   ]
  },
  {
   "cell_type": "markdown",
   "id": "9430e46f-05c3-4e83-96d1-49b6605ec2ab",
   "metadata": {},
   "source": [
    "you can make numpy array by python dictionary and list also."
   ]
  },
  {
   "cell_type": "code",
   "execution_count": 12,
   "id": "9033d9d8-57d4-4422-94a8-73df2f49a1a3",
   "metadata": {},
   "outputs": [
    {
     "data": {
      "text/plain": [
       "4"
      ]
     },
     "execution_count": 12,
     "metadata": {},
     "output_type": "execute_result"
    }
   ],
   "source": [
    "myarr.size"
   ]
  },
  {
   "cell_type": "code",
   "execution_count": 13,
   "id": "26200515-b1d6-4abf-a1f0-68fd6f7b3771",
   "metadata": {},
   "outputs": [
    {
     "data": {
      "text/plain": [
       "1"
      ]
     },
     "execution_count": 13,
     "metadata": {},
     "output_type": "execute_result"
    }
   ],
   "source": [
    "new.size"
   ]
  },
  {
   "cell_type": "markdown",
   "id": "e20edf2b-2b6b-4e65-a9cf-3da8351aabea",
   "metadata": {},
   "source": [
    "myarr.size se array ka size aajata"
   ]
  },
  {
   "cell_type": "markdown",
   "id": "7a6e1163-87a8-4184-a5fd-4ac58a91df61",
   "metadata": {},
   "source": [
    "There are 5 general mechanisms for creating arrays:\n",
    "Conversion from other Python structures (e.g., lists, tuples)"
   ]
  },
  {
   "cell_type": "code",
   "execution_count": 14,
   "id": "64c6db5d-24ec-4f00-97eb-190feee47004",
   "metadata": {},
   "outputs": [],
   "source": [
    "listarray = np.array([[1,2,3], [4,5,6], [7,8,9]])"
   ]
  },
  {
   "cell_type": "code",
   "execution_count": 15,
   "id": "5178489b-910b-4b0b-a301-14454f7ff6ee",
   "metadata": {},
   "outputs": [
    {
     "data": {
      "text/plain": [
       "array([[1, 2, 3],\n",
       "       [4, 5, 6],\n",
       "       [7, 8, 9]])"
      ]
     },
     "execution_count": 15,
     "metadata": {},
     "output_type": "execute_result"
    }
   ],
   "source": [
    "listarray"
   ]
  },
  {
   "cell_type": "code",
   "execution_count": 16,
   "id": "d6a64e57-331d-442b-95a6-9aa394aa2fbd",
   "metadata": {},
   "outputs": [
    {
     "data": {
      "text/plain": [
       "9"
      ]
     },
     "execution_count": 16,
     "metadata": {},
     "output_type": "execute_result"
    }
   ],
   "source": [
    "listarray.size"
   ]
  },
  {
   "cell_type": "code",
   "execution_count": 17,
   "id": "e4f01394-b3af-400f-b68a-728e435b2495",
   "metadata": {},
   "outputs": [
    {
     "data": {
      "text/plain": [
       "dtype('int32')"
      ]
     },
     "execution_count": 17,
     "metadata": {},
     "output_type": "execute_result"
    }
   ],
   "source": [
    "listarray.dtype"
   ]
  },
  {
   "cell_type": "code",
   "execution_count": 18,
   "id": "07b8caa0-21fe-4af1-82d5-1481db49717a",
   "metadata": {},
   "outputs": [
    {
     "data": {
      "text/plain": [
       "(3, 3)"
      ]
     },
     "execution_count": 18,
     "metadata": {},
     "output_type": "execute_result"
    }
   ],
   "source": [
    "listarray.shape"
   ]
  },
  {
   "cell_type": "markdown",
   "id": "cfad9c48-8f73-4d95-9b72-b5ac770f2565",
   "metadata": {},
   "source": [
    "3 rows and 3 columns hai above array mai"
   ]
  },
  {
   "cell_type": "markdown",
   "id": "3b88583c-3754-4f86-8f2b-e49149a16cb8",
   "metadata": {},
   "source": [
    "Intrinsic numpy array creation objects (e.g., arange, ones, zeros, etc.) zeros se (2,4) agr krain tu 2 rows or 4 columns ka ek numpy array bnjaega, arange(15) let say agr krain tu 0 to 14 ka ek numpy array miljaega"
   ]
  },
  {
   "cell_type": "code",
   "execution_count": 19,
   "id": "7b6471cd-8be8-433b-a4d7-35688f37f7c5",
   "metadata": {},
   "outputs": [],
   "source": [
    "zero = np.zeros((2,4))"
   ]
  },
  {
   "cell_type": "code",
   "execution_count": 20,
   "id": "976adc5c-5cf4-4d43-8305-f756167f7b4a",
   "metadata": {},
   "outputs": [
    {
     "data": {
      "text/plain": [
       "array([[0., 0., 0., 0.],\n",
       "       [0., 0., 0., 0.]])"
      ]
     },
     "execution_count": 20,
     "metadata": {},
     "output_type": "execute_result"
    }
   ],
   "source": [
    "zero"
   ]
  },
  {
   "cell_type": "code",
   "execution_count": 21,
   "id": "8cb315da-1768-43ae-8528-bf970dfdbda3",
   "metadata": {},
   "outputs": [
    {
     "data": {
      "text/plain": [
       "8"
      ]
     },
     "execution_count": 21,
     "metadata": {},
     "output_type": "execute_result"
    }
   ],
   "source": [
    "zero.size"
   ]
  },
  {
   "cell_type": "code",
   "execution_count": 22,
   "id": "0fa73763-ab41-4edc-81b9-5976dead0dfa",
   "metadata": {},
   "outputs": [
    {
     "data": {
      "text/plain": [
       "(2, 4)"
      ]
     },
     "execution_count": 22,
     "metadata": {},
     "output_type": "execute_result"
    }
   ],
   "source": [
    "zero.shape"
   ]
  },
  {
   "cell_type": "code",
   "execution_count": 23,
   "id": "78a73397-fe55-441e-90bc-fabd0e78ba98",
   "metadata": {},
   "outputs": [
    {
     "data": {
      "text/plain": [
       "dtype('float64')"
      ]
     },
     "execution_count": 23,
     "metadata": {},
     "output_type": "execute_result"
    }
   ],
   "source": [
    "zero.dtype"
   ]
  },
  {
   "cell_type": "code",
   "execution_count": 24,
   "id": "9d430c58-9ad5-4562-8379-0915d176b586",
   "metadata": {},
   "outputs": [],
   "source": [
    "arrange_array = np.arange(15)"
   ]
  },
  {
   "cell_type": "code",
   "execution_count": 25,
   "id": "e293405d-a8c7-442a-bfdf-415630cabdb1",
   "metadata": {},
   "outputs": [
    {
     "data": {
      "text/plain": [
       "array([ 0,  1,  2,  3,  4,  5,  6,  7,  8,  9, 10, 11, 12, 13, 14])"
      ]
     },
     "execution_count": 25,
     "metadata": {},
     "output_type": "execute_result"
    }
   ],
   "source": [
    "arrange_array"
   ]
  },
  {
   "cell_type": "code",
   "execution_count": 26,
   "id": "7c84d495-39a1-4c01-ab9b-26a8d980c453",
   "metadata": {},
   "outputs": [],
   "source": [
    "one = np.ones((2,5))"
   ]
  },
  {
   "cell_type": "code",
   "execution_count": 27,
   "id": "36fb5afc-5ab1-40ed-9c6a-b9c4c0f6e4a3",
   "metadata": {},
   "outputs": [
    {
     "data": {
      "text/plain": [
       "array([[1., 1., 1., 1., 1.],\n",
       "       [1., 1., 1., 1., 1.]])"
      ]
     },
     "execution_count": 27,
     "metadata": {},
     "output_type": "execute_result"
    }
   ],
   "source": [
    "one"
   ]
  },
  {
   "cell_type": "markdown",
   "id": "1a47657e-cc2b-45d7-b465-6b1589a70e71",
   "metadata": {},
   "source": [
    "linspace se values ko equally divide krskte like (1,4,6) mai 1 to 4 number ki range mai 6 numbers aaenge or is sb numbers ke between equally distance hoga bydefault last wala number 50 set hota hai agr nhi denge ti 50 values ajangi equally separated. linspace returns floating point number"
   ]
  },
  {
   "cell_type": "code",
   "execution_count": 28,
   "id": "9422d6ef-66a3-4eb5-98ff-e3a9e439382a",
   "metadata": {},
   "outputs": [],
   "source": [
    "lspace = np.linspace(1,4)"
   ]
  },
  {
   "cell_type": "code",
   "execution_count": 29,
   "id": "f932fd0b-23e7-46c6-8a89-b3e73d216fde",
   "metadata": {},
   "outputs": [
    {
     "data": {
      "text/plain": [
       "array([1.        , 1.06122449, 1.12244898, 1.18367347, 1.24489796,\n",
       "       1.30612245, 1.36734694, 1.42857143, 1.48979592, 1.55102041,\n",
       "       1.6122449 , 1.67346939, 1.73469388, 1.79591837, 1.85714286,\n",
       "       1.91836735, 1.97959184, 2.04081633, 2.10204082, 2.16326531,\n",
       "       2.2244898 , 2.28571429, 2.34693878, 2.40816327, 2.46938776,\n",
       "       2.53061224, 2.59183673, 2.65306122, 2.71428571, 2.7755102 ,\n",
       "       2.83673469, 2.89795918, 2.95918367, 3.02040816, 3.08163265,\n",
       "       3.14285714, 3.20408163, 3.26530612, 3.32653061, 3.3877551 ,\n",
       "       3.44897959, 3.51020408, 3.57142857, 3.63265306, 3.69387755,\n",
       "       3.75510204, 3.81632653, 3.87755102, 3.93877551, 4.        ])"
      ]
     },
     "execution_count": 29,
     "metadata": {},
     "output_type": "execute_result"
    }
   ],
   "source": [
    "lspace"
   ]
  },
  {
   "cell_type": "code",
   "execution_count": 30,
   "id": "02b00111-4a0f-4ce8-989e-0461d9c8b299",
   "metadata": {},
   "outputs": [],
   "source": [
    "lspace = np.linspace(1,4,7)"
   ]
  },
  {
   "cell_type": "code",
   "execution_count": 31,
   "id": "0d692df0-cda9-4e9c-906a-d41dd47ef38c",
   "metadata": {},
   "outputs": [
    {
     "data": {
      "text/plain": [
       "array([1. , 1.5, 2. , 2.5, 3. , 3.5, 4. ])"
      ]
     },
     "execution_count": 31,
     "metadata": {},
     "output_type": "execute_result"
    }
   ],
   "source": [
    "lspace"
   ]
  },
  {
   "cell_type": "markdown",
   "id": "3ec3b2d3-0e1a-46f6-83ac-4cbef9167e0d",
   "metadata": {},
   "source": [
    "empty se randoms value ko array generate hojata hai like (2,4) hai tu 2 rows or 4 columns ka random array hoga, empty_like() method mai ek dosra aray dete tu ek new array create hota hai jis ka shape phele ke shape jese hota hai with arbitary values(\"Arbitrary\" means something that is chosen without any particular reason or rule), and identity se ek identity matrix bnjata hai."
   ]
  },
  {
   "cell_type": "code",
   "execution_count": 32,
   "id": "0e312183-428e-435c-9060-6762e07c9be5",
   "metadata": {},
   "outputs": [],
   "source": [
    "emp = np.empty((2,6))"
   ]
  },
  {
   "cell_type": "code",
   "execution_count": 33,
   "id": "a936b5b6-cf1a-48a0-92dd-8f372dd1c9a9",
   "metadata": {},
   "outputs": [
    {
     "data": {
      "text/plain": [
       "array([[8.73205943e-312, 3.16202013e-322, 0.00000000e+000,\n",
       "        0.00000000e+000, 1.08221785e-312, 1.16095484e-028],\n",
       "       [1.69201566e+190, 3.02876088e-152, 2.58400946e+161,\n",
       "        4.03744583e-144, 2.91237123e+257, 4.71294503e+257]])"
      ]
     },
     "execution_count": 33,
     "metadata": {},
     "output_type": "execute_result"
    }
   ],
   "source": [
    "emp"
   ]
  },
  {
   "cell_type": "code",
   "execution_count": 34,
   "id": "70381c2c-50ba-440f-9808-7aa8a1030e92",
   "metadata": {},
   "outputs": [],
   "source": [
    "emp_like = np.empty_like(lspace)"
   ]
  },
  {
   "cell_type": "code",
   "execution_count": 35,
   "id": "ace55073-3861-4671-8523-3ee6a0f40e53",
   "metadata": {},
   "outputs": [
    {
     "data": {
      "text/plain": [
       "array([1. , 1.5, 2. , 2.5, 3. , 3.5, 4. ])"
      ]
     },
     "execution_count": 35,
     "metadata": {},
     "output_type": "execute_result"
    }
   ],
   "source": [
    "emp_like"
   ]
  },
  {
   "cell_type": "code",
   "execution_count": 36,
   "id": "5c1f6310-6132-4a6e-8a6f-21e4ddfa94b1",
   "metadata": {},
   "outputs": [],
   "source": [
    "identity = np.identity(10)"
   ]
  },
  {
   "cell_type": "code",
   "execution_count": 37,
   "id": "d6e43a11-08fe-472d-baf0-ca2eab44e85b",
   "metadata": {},
   "outputs": [
    {
     "data": {
      "text/plain": [
       "array([[1., 0., 0., 0., 0., 0., 0., 0., 0., 0.],\n",
       "       [0., 1., 0., 0., 0., 0., 0., 0., 0., 0.],\n",
       "       [0., 0., 1., 0., 0., 0., 0., 0., 0., 0.],\n",
       "       [0., 0., 0., 1., 0., 0., 0., 0., 0., 0.],\n",
       "       [0., 0., 0., 0., 1., 0., 0., 0., 0., 0.],\n",
       "       [0., 0., 0., 0., 0., 1., 0., 0., 0., 0.],\n",
       "       [0., 0., 0., 0., 0., 0., 1., 0., 0., 0.],\n",
       "       [0., 0., 0., 0., 0., 0., 0., 1., 0., 0.],\n",
       "       [0., 0., 0., 0., 0., 0., 0., 0., 1., 0.],\n",
       "       [0., 0., 0., 0., 0., 0., 0., 0., 0., 1.]])"
      ]
     },
     "execution_count": 37,
     "metadata": {},
     "output_type": "execute_result"
    }
   ],
   "source": [
    "identity"
   ]
  },
  {
   "cell_type": "code",
   "execution_count": 38,
   "id": "c208a5ec-cf74-4abd-9bd7-033a004d364b",
   "metadata": {},
   "outputs": [],
   "source": [
    "a = np.array([[1, 2, 3], [4, 5, 6]])"
   ]
  },
  {
   "cell_type": "code",
   "execution_count": 39,
   "id": "b7975336-b9c8-4a83-8323-e13ab282fdb1",
   "metadata": {},
   "outputs": [
    {
     "data": {
      "text/plain": [
       "array([[1, 2, 3],\n",
       "       [4, 5, 6]])"
      ]
     },
     "execution_count": 39,
     "metadata": {},
     "output_type": "execute_result"
    }
   ],
   "source": [
    "a"
   ]
  },
  {
   "cell_type": "code",
   "execution_count": 40,
   "id": "42dbbc4a-3ee0-4202-9fbe-f564b633db40",
   "metadata": {},
   "outputs": [],
   "source": [
    "empty_array = np.empty_like(a)"
   ]
  },
  {
   "cell_type": "code",
   "execution_count": 41,
   "id": "43877542-9818-43b5-96b3-50cfaa3ef650",
   "metadata": {},
   "outputs": [
    {
     "data": {
      "text/plain": [
       "array([[        97,  316163264,          0],\n",
       "       [         0,          1, 1752459118]])"
      ]
     },
     "execution_count": 41,
     "metadata": {},
     "output_type": "execute_result"
    }
   ],
   "source": [
    "empty_array"
   ]
  },
  {
   "cell_type": "markdown",
   "id": "3c4987c5-443b-40c9-ac02-d6989e570de5",
   "metadata": {},
   "source": [
    "reshape se array ko shunks mai divide krskte jese maine kha ke (3,33) mai ke 3 mai divide kro each array mai 33 element rakhdo if divide nhi horha hoga tu error aaega letsay agr 33 ki jga 31 krdain tu ye error dega, ravel() method se ye hota ke resjape se jo 2D array bnatha wo dobara 1D array mai convert hojata hai"
   ]
  },
  {
   "cell_type": "code",
   "execution_count": 42,
   "id": "d1f14c9d-63f2-42e2-8812-e2980f8871fe",
   "metadata": {},
   "outputs": [],
   "source": [
    "arr = np.arange(99)"
   ]
  },
  {
   "cell_type": "code",
   "execution_count": 43,
   "id": "7d010459-6765-49c8-849c-ef306623b725",
   "metadata": {},
   "outputs": [
    {
     "data": {
      "text/plain": [
       "array([ 0,  1,  2,  3,  4,  5,  6,  7,  8,  9, 10, 11, 12, 13, 14, 15, 16,\n",
       "       17, 18, 19, 20, 21, 22, 23, 24, 25, 26, 27, 28, 29, 30, 31, 32, 33,\n",
       "       34, 35, 36, 37, 38, 39, 40, 41, 42, 43, 44, 45, 46, 47, 48, 49, 50,\n",
       "       51, 52, 53, 54, 55, 56, 57, 58, 59, 60, 61, 62, 63, 64, 65, 66, 67,\n",
       "       68, 69, 70, 71, 72, 73, 74, 75, 76, 77, 78, 79, 80, 81, 82, 83, 84,\n",
       "       85, 86, 87, 88, 89, 90, 91, 92, 93, 94, 95, 96, 97, 98])"
      ]
     },
     "execution_count": 43,
     "metadata": {},
     "output_type": "execute_result"
    }
   ],
   "source": [
    "arr"
   ]
  },
  {
   "cell_type": "code",
   "execution_count": 44,
   "id": "89709fac-ff02-4b7e-be34-6c949e218ac8",
   "metadata": {},
   "outputs": [],
   "source": [
    "arr = arr.reshape(3,33)"
   ]
  },
  {
   "cell_type": "code",
   "execution_count": 45,
   "id": "da9fd1ea-0d94-4e5e-a1c7-092cf4b0263a",
   "metadata": {},
   "outputs": [
    {
     "data": {
      "text/plain": [
       "array([[ 0,  1,  2,  3,  4,  5,  6,  7,  8,  9, 10, 11, 12, 13, 14, 15,\n",
       "        16, 17, 18, 19, 20, 21, 22, 23, 24, 25, 26, 27, 28, 29, 30, 31,\n",
       "        32],\n",
       "       [33, 34, 35, 36, 37, 38, 39, 40, 41, 42, 43, 44, 45, 46, 47, 48,\n",
       "        49, 50, 51, 52, 53, 54, 55, 56, 57, 58, 59, 60, 61, 62, 63, 64,\n",
       "        65],\n",
       "       [66, 67, 68, 69, 70, 71, 72, 73, 74, 75, 76, 77, 78, 79, 80, 81,\n",
       "        82, 83, 84, 85, 86, 87, 88, 89, 90, 91, 92, 93, 94, 95, 96, 97,\n",
       "        98]])"
      ]
     },
     "execution_count": 45,
     "metadata": {},
     "output_type": "execute_result"
    }
   ],
   "source": [
    "arr"
   ]
  },
  {
   "cell_type": "code",
   "execution_count": 46,
   "id": "36f90435-99f1-4b09-b1c1-201444e59431",
   "metadata": {},
   "outputs": [
    {
     "data": {
      "text/plain": [
       "(3, 33)"
      ]
     },
     "execution_count": 46,
     "metadata": {},
     "output_type": "execute_result"
    }
   ],
   "source": [
    "arr.shape"
   ]
  },
  {
   "cell_type": "code",
   "execution_count": 47,
   "id": "577c2729-77d1-482b-8fad-6bd8203ee52b",
   "metadata": {},
   "outputs": [],
   "source": [
    "arr = arr.ravel()"
   ]
  },
  {
   "cell_type": "code",
   "execution_count": 48,
   "id": "4b810386-76c6-4aaf-8fb5-44cb09bc9aff",
   "metadata": {},
   "outputs": [
    {
     "data": {
      "text/plain": [
       "array([ 0,  1,  2,  3,  4,  5,  6,  7,  8,  9, 10, 11, 12, 13, 14, 15, 16,\n",
       "       17, 18, 19, 20, 21, 22, 23, 24, 25, 26, 27, 28, 29, 30, 31, 32, 33,\n",
       "       34, 35, 36, 37, 38, 39, 40, 41, 42, 43, 44, 45, 46, 47, 48, 49, 50,\n",
       "       51, 52, 53, 54, 55, 56, 57, 58, 59, 60, 61, 62, 63, 64, 65, 66, 67,\n",
       "       68, 69, 70, 71, 72, 73, 74, 75, 76, 77, 78, 79, 80, 81, 82, 83, 84,\n",
       "       85, 86, 87, 88, 89, 90, 91, 92, 93, 94, 95, 96, 97, 98])"
      ]
     },
     "execution_count": 48,
     "metadata": {},
     "output_type": "execute_result"
    }
   ],
   "source": [
    "arr"
   ]
  },
  {
   "cell_type": "code",
   "execution_count": 49,
   "id": "16c7936b-92bf-4f00-8b69-f51de5aa757d",
   "metadata": {},
   "outputs": [],
   "source": [
    "arr = arr.ravel()"
   ]
  },
  {
   "cell_type": "code",
   "execution_count": 50,
   "id": "13fe25a0-aaad-4628-b28d-856088bd76d9",
   "metadata": {},
   "outputs": [
    {
     "data": {
      "text/plain": [
       "array([ 0,  1,  2,  3,  4,  5,  6,  7,  8,  9, 10, 11, 12, 13, 14, 15, 16,\n",
       "       17, 18, 19, 20, 21, 22, 23, 24, 25, 26, 27, 28, 29, 30, 31, 32, 33,\n",
       "       34, 35, 36, 37, 38, 39, 40, 41, 42, 43, 44, 45, 46, 47, 48, 49, 50,\n",
       "       51, 52, 53, 54, 55, 56, 57, 58, 59, 60, 61, 62, 63, 64, 65, 66, 67,\n",
       "       68, 69, 70, 71, 72, 73, 74, 75, 76, 77, 78, 79, 80, 81, 82, 83, 84,\n",
       "       85, 86, 87, 88, 89, 90, 91, 92, 93, 94, 95, 96, 97, 98])"
      ]
     },
     "execution_count": 50,
     "metadata": {},
     "output_type": "execute_result"
    }
   ],
   "source": [
    "arr"
   ]
  },
  {
   "cell_type": "code",
   "execution_count": 51,
   "id": "56265bd5-f01d-42b8-a453-1563e15a3c7b",
   "metadata": {},
   "outputs": [
    {
     "data": {
      "text/plain": [
       "(99,)"
      ]
     },
     "execution_count": 51,
     "metadata": {},
     "output_type": "execute_result"
    }
   ],
   "source": [
    "arr.shape"
   ]
  },
  {
   "cell_type": "markdown",
   "id": "548bd2a6-4980-49c1-ab6f-c1b5e4d534ef",
   "metadata": {},
   "source": [
    "ab .shape krenge tu 99 ka 1D array aaega bcz ravel krke 2D ko 1D array bnadya hai"
   ]
  },
  {
   "cell_type": "code",
   "execution_count": 52,
   "id": "58228134-3f65-42c7-b24d-d3f1105bc787",
   "metadata": {},
   "outputs": [],
   "source": [
    "x = [[1,2,3], [4,5,6], [7,8,9]]"
   ]
  },
  {
   "cell_type": "code",
   "execution_count": 53,
   "id": "f3d226e6-dc6a-4f0e-87d9-d535fd87d42c",
   "metadata": {},
   "outputs": [],
   "source": [
    "arr = np.array(x)"
   ]
  },
  {
   "cell_type": "code",
   "execution_count": 54,
   "id": "f44b6798-35e7-442c-bb8e-8807f3ad3645",
   "metadata": {},
   "outputs": [
    {
     "data": {
      "text/plain": [
       "array([[1, 2, 3],\n",
       "       [4, 5, 6],\n",
       "       [7, 8, 9]])"
      ]
     },
     "execution_count": 54,
     "metadata": {},
     "output_type": "execute_result"
    }
   ],
   "source": [
    "arr"
   ]
  },
  {
   "cell_type": "code",
   "execution_count": 55,
   "id": "c50318c2-1070-4892-be36-c814e354b064",
   "metadata": {},
   "outputs": [
    {
     "data": {
      "text/plain": [
       "array([12, 15, 18])"
      ]
     },
     "execution_count": 55,
     "metadata": {},
     "output_type": "execute_result"
    }
   ],
   "source": [
    "arr.sum(axis=0)"
   ]
  },
  {
   "cell_type": "code",
   "execution_count": 56,
   "id": "32da97f3-e041-4b48-ac63-139c05bd0eb1",
   "metadata": {},
   "outputs": [
    {
     "data": {
      "text/plain": [
       "array([ 6, 15, 24])"
      ]
     },
     "execution_count": 56,
     "metadata": {},
     "output_type": "execute_result"
    }
   ],
   "source": [
    "arr.sum(axis=1)"
   ]
  },
  {
   "cell_type": "code",
   "execution_count": 57,
   "id": "a935f432-6f06-47a6-b1d2-3ce7c6e12027",
   "metadata": {},
   "outputs": [],
   "source": [
    "arr_1_d = [1,2,3,4,5]"
   ]
  },
  {
   "cell_type": "code",
   "execution_count": 58,
   "id": "954cdcf4-b461-40cc-a554-6e1765192f64",
   "metadata": {},
   "outputs": [],
   "source": [
    "arr_1_dimentional = np.array(arr_1_d ) "
   ]
  },
  {
   "cell_type": "code",
   "execution_count": 59,
   "id": "adaa9425-04a8-4937-8cc7-dd1ebee900d4",
   "metadata": {},
   "outputs": [
    {
     "data": {
      "text/plain": [
       "array([1, 2, 3, 4, 5])"
      ]
     },
     "execution_count": 59,
     "metadata": {},
     "output_type": "execute_result"
    }
   ],
   "source": [
    "arr_1_dimentional"
   ]
  },
  {
   "cell_type": "code",
   "execution_count": 60,
   "id": "2f83949b-e166-45de-99d7-e94623e620a3",
   "metadata": {},
   "outputs": [
    {
     "data": {
      "text/plain": [
       "15"
      ]
     },
     "execution_count": 60,
     "metadata": {},
     "output_type": "execute_result"
    }
   ],
   "source": [
    "arr_1_dimentional.sum(axis=0)"
   ]
  },
  {
   "cell_type": "markdown",
   "id": "dbfe6c6a-eef7-4a89-97c3-3f542d20a961",
   "metadata": {},
   "source": [
    "in 1D array axis=1 nhikrskte bc us mai just ek hi axis hota 0."
   ]
  },
  {
   "cell_type": "markdown",
   "id": "09e2571b-240c-41cd-9cdd-2da845660ac8",
   "metadata": {},
   "source": [
    "if you want to take transpose of your array then just write T with your array name"
   ]
  },
  {
   "cell_type": "code",
   "execution_count": 61,
   "id": "de26a0a0-b88c-4012-b0f6-d1804c118944",
   "metadata": {},
   "outputs": [
    {
     "data": {
      "text/plain": [
       "array([[1, 2, 3],\n",
       "       [4, 5, 6],\n",
       "       [7, 8, 9]])"
      ]
     },
     "execution_count": 61,
     "metadata": {},
     "output_type": "execute_result"
    }
   ],
   "source": [
    "arr"
   ]
  },
  {
   "cell_type": "code",
   "execution_count": 62,
   "id": "fd237c08-a526-4f4a-8406-90892ddd427c",
   "metadata": {},
   "outputs": [
    {
     "data": {
      "text/plain": [
       "array([[1, 4, 7],\n",
       "       [2, 5, 8],\n",
       "       [3, 6, 9]])"
      ]
     },
     "execution_count": 62,
     "metadata": {},
     "output_type": "execute_result"
    }
   ],
   "source": [
    "arr.T"
   ]
  },
  {
   "cell_type": "markdown",
   "id": "a3b893d8-af6d-43f4-91ed-16cba5abfed9",
   "metadata": {},
   "source": [
    "if you want ke to print 2D print in linear manner so 2 loops ki need hogi for i in arr, for j in i, but flat method se ye ek hi loop mai krskte bcz flat ek iterator bnakr deta hai tu i or flat 2 iterator hogae islie ek hi loop mai values aajaengi.  <numpy.flatiter at 0x27a05833a70> this is an iterator"
   ]
  },
  {
   "cell_type": "code",
   "execution_count": 63,
   "id": "7f92b7ef-7ec8-4395-9e7d-c4b082ff0e0b",
   "metadata": {},
   "outputs": [
    {
     "data": {
      "text/plain": [
       "<numpy.flatiter at 0x19b81f03980>"
      ]
     },
     "execution_count": 63,
     "metadata": {},
     "output_type": "execute_result"
    }
   ],
   "source": [
    "arr.flat"
   ]
  },
  {
   "cell_type": "code",
   "execution_count": 64,
   "id": "bf5d6572-f0ba-4416-8650-3452e4d48392",
   "metadata": {},
   "outputs": [
    {
     "name": "stdout",
     "output_type": "stream",
     "text": [
      "1\n",
      "2\n",
      "3\n",
      "4\n",
      "5\n",
      "6\n",
      "7\n",
      "8\n",
      "9\n"
     ]
    }
   ],
   "source": [
    "for i in arr.flat:\n",
    "    print(i)"
   ]
  },
  {
   "cell_type": "markdown",
   "id": "cd249f39-2c80-472d-8c44-db5f023343b8",
   "metadata": {},
   "source": [
    ".ndim no. of dimentions ka btaega"
   ]
  },
  {
   "cell_type": "code",
   "execution_count": 65,
   "id": "2f6c7fed-6bd9-400f-b2f1-3f355c29dee9",
   "metadata": {},
   "outputs": [
    {
     "data": {
      "text/plain": [
       "2"
      ]
     },
     "execution_count": 65,
     "metadata": {},
     "output_type": "execute_result"
    }
   ],
   "source": [
    "arr.ndim"
   ]
  },
  {
   "cell_type": "code",
   "execution_count": 66,
   "id": "0b470f99-2f2d-41f1-8321-0cbdaeb7dd4f",
   "metadata": {},
   "outputs": [
    {
     "data": {
      "text/plain": [
       "numpy.ndarray"
      ]
     },
     "execution_count": 66,
     "metadata": {},
     "output_type": "execute_result"
    }
   ],
   "source": [
    "type(arr)"
   ]
  },
  {
   "cell_type": "code",
   "execution_count": 67,
   "id": "7e6057cd-ee92-460b-97d0-953187a05b39",
   "metadata": {},
   "outputs": [
    {
     "data": {
      "text/plain": [
       "3"
      ]
     },
     "execution_count": 67,
     "metadata": {},
     "output_type": "execute_result"
    }
   ],
   "source": [
    "len(arr)"
   ]
  },
  {
   "cell_type": "code",
   "execution_count": 68,
   "id": "bbd9e4c7-f232-4357-a4fd-12e058089228",
   "metadata": {},
   "outputs": [
    {
     "data": {
      "text/plain": [
       "9"
      ]
     },
     "execution_count": 68,
     "metadata": {},
     "output_type": "execute_result"
    }
   ],
   "source": [
    "arr.size"
   ]
  },
  {
   "cell_type": "code",
   "execution_count": 69,
   "id": "f037f85a-8407-4804-84da-2a1a27225ce4",
   "metadata": {},
   "outputs": [
    {
     "data": {
      "text/plain": [
       "36"
      ]
     },
     "execution_count": 69,
     "metadata": {},
     "output_type": "execute_result"
    }
   ],
   "source": [
    "arr.nbytes"
   ]
  },
  {
   "cell_type": "markdown",
   "id": "e65cca17-f102-4106-844d-cd720a8359e0",
   "metadata": {},
   "source": [
    "36 islie aaya bcz 9*4=36 hota nbytes bytes ko btata hai per integer 4 byte ka hota tu islie 36 aagya. array ke element kitni jga lerhe hai in memory wo nbyte se pta lgjata hai"
   ]
  },
  {
   "cell_type": "code",
   "execution_count": 70,
   "id": "ad08fb45-5ca9-4717-bd4d-56c44dc7be15",
   "metadata": {},
   "outputs": [],
   "source": [
    "new_arr = np.array([1,2,4,674,3], np.int32)"
   ]
  },
  {
   "cell_type": "code",
   "execution_count": 71,
   "id": "de733176-5ba8-45a7-93f7-fc3c7719f4ed",
   "metadata": {},
   "outputs": [
    {
     "data": {
      "text/plain": [
       "3"
      ]
     },
     "execution_count": 71,
     "metadata": {},
     "output_type": "execute_result"
    }
   ],
   "source": [
    "new_arr.argmax()"
   ]
  },
  {
   "cell_type": "code",
   "execution_count": 72,
   "id": "faf83568-5685-4665-b2b7-fcfb6257e6c3",
   "metadata": {},
   "outputs": [
    {
     "data": {
      "text/plain": [
       "0"
      ]
     },
     "execution_count": 72,
     "metadata": {},
     "output_type": "execute_result"
    }
   ],
   "source": [
    "new_arr.argmin()"
   ]
  },
  {
   "cell_type": "code",
   "execution_count": 73,
   "id": "dfe268a2-57f3-41fe-ada1-df85657063b8",
   "metadata": {},
   "outputs": [
    {
     "data": {
      "text/plain": [
       "array([0, 1, 4, 2, 3], dtype=int64)"
      ]
     },
     "execution_count": 73,
     "metadata": {},
     "output_type": "execute_result"
    }
   ],
   "source": [
    "new_arr.argsort()"
   ]
  },
  {
   "cell_type": "markdown",
   "id": "d6b64a6f-b53c-4b8b-8bee-a03099fde94b",
   "metadata": {},
   "source": [
    "argmax() is a method and it returns an index where maximum element is present in our scenario max element is found in 3 index that's why it returns 3.and same goes to argmin() it returns minimum value's index. argsort() se ye pta lgta ke agr ye array sorted hota tu kya indexes hoti."
   ]
  },
  {
   "cell_type": "code",
   "execution_count": 74,
   "id": "a65764b5-f60d-4f2b-8bbf-b96d60150f55",
   "metadata": {},
   "outputs": [],
   "source": [
    "new_arr.sort()"
   ]
  },
  {
   "cell_type": "code",
   "execution_count": 75,
   "id": "7ee41d2d-2ba6-46f6-916b-164d706b52b5",
   "metadata": {},
   "outputs": [
    {
     "data": {
      "text/plain": [
       "array([  1,   2,   3,   4, 674])"
      ]
     },
     "execution_count": 75,
     "metadata": {},
     "output_type": "execute_result"
    }
   ],
   "source": [
    "new_arr"
   ]
  },
  {
   "cell_type": "code",
   "execution_count": 76,
   "id": "2db43a0a-6dba-4741-a56f-652de984a318",
   "metadata": {},
   "outputs": [
    {
     "data": {
      "text/plain": [
       "array([[1, 2, 3],\n",
       "       [4, 5, 6],\n",
       "       [7, 8, 9]])"
      ]
     },
     "execution_count": 76,
     "metadata": {},
     "output_type": "execute_result"
    }
   ],
   "source": [
    "arr"
   ]
  },
  {
   "cell_type": "code",
   "execution_count": 77,
   "id": "80574e28-fbba-4e69-bd31-871b15c0c79f",
   "metadata": {},
   "outputs": [
    {
     "data": {
      "text/plain": [
       "8"
      ]
     },
     "execution_count": 77,
     "metadata": {},
     "output_type": "execute_result"
    }
   ],
   "source": [
    "arr.argmax()"
   ]
  },
  {
   "cell_type": "code",
   "execution_count": 78,
   "id": "4d1fd2e2-b4f5-40c1-a15e-6f96a943a37f",
   "metadata": {},
   "outputs": [
    {
     "data": {
      "text/plain": [
       "0"
      ]
     },
     "execution_count": 78,
     "metadata": {},
     "output_type": "execute_result"
    }
   ],
   "source": [
    "arr.argmin()"
   ]
  },
  {
   "cell_type": "code",
   "execution_count": 79,
   "id": "5040c40d-d785-4666-86f3-ee1d95513cfa",
   "metadata": {},
   "outputs": [
    {
     "data": {
      "text/plain": [
       "array([[0, 1, 2],\n",
       "       [0, 1, 2],\n",
       "       [0, 1, 2]], dtype=int64)"
      ]
     },
     "execution_count": 79,
     "metadata": {},
     "output_type": "execute_result"
    }
   ],
   "source": [
    "arr.argsort()"
   ]
  },
  {
   "cell_type": "code",
   "execution_count": 80,
   "id": "ff88f8a8-877a-4f93-80b8-02aed2e950f5",
   "metadata": {},
   "outputs": [
    {
     "data": {
      "text/plain": [
       "9"
      ]
     },
     "execution_count": 80,
     "metadata": {},
     "output_type": "execute_result"
    }
   ],
   "source": [
    "arr.max()"
   ]
  },
  {
   "cell_type": "code",
   "execution_count": 81,
   "id": "fda2283c-a16f-449d-9e2d-678f6bd7f0f5",
   "metadata": {},
   "outputs": [
    {
     "data": {
      "text/plain": [
       "1"
      ]
     },
     "execution_count": 81,
     "metadata": {},
     "output_type": "execute_result"
    }
   ],
   "source": [
    "arr.min()"
   ]
  },
  {
   "cell_type": "code",
   "execution_count": 82,
   "id": "48cfee9c-2aae-493e-9a0a-5b610df846d2",
   "metadata": {},
   "outputs": [
    {
     "data": {
      "text/plain": [
       "array([2, 2, 2], dtype=int64)"
      ]
     },
     "execution_count": 82,
     "metadata": {},
     "output_type": "execute_result"
    }
   ],
   "source": [
    "arr.argmax(axis=0)"
   ]
  },
  {
   "cell_type": "code",
   "execution_count": 83,
   "id": "68a3da14-30c5-415b-9c75-d62743492991",
   "metadata": {},
   "outputs": [
    {
     "data": {
      "text/plain": [
       "array([2, 2, 2], dtype=int64)"
      ]
     },
     "execution_count": 83,
     "metadata": {},
     "output_type": "execute_result"
    }
   ],
   "source": [
    "arr.argmax(axis=1)"
   ]
  },
  {
   "cell_type": "code",
   "execution_count": 84,
   "id": "46dfdb9e-dccc-4299-a8ac-026d5fb50275",
   "metadata": {},
   "outputs": [
    {
     "data": {
      "text/plain": [
       "array([0, 0, 0], dtype=int64)"
      ]
     },
     "execution_count": 84,
     "metadata": {},
     "output_type": "execute_result"
    }
   ],
   "source": [
    "arr.argmin(axis=0)"
   ]
  },
  {
   "cell_type": "code",
   "execution_count": 85,
   "id": "3287f96f-98df-49c9-91bf-b36f78cad2a0",
   "metadata": {},
   "outputs": [
    {
     "data": {
      "text/plain": [
       "array([0, 0, 0], dtype=int64)"
      ]
     },
     "execution_count": 85,
     "metadata": {},
     "output_type": "execute_result"
    }
   ],
   "source": [
    "arr.argmin(axis=1)"
   ]
  },
  {
   "cell_type": "code",
   "execution_count": 86,
   "id": "1989d382-2fda-4034-b42a-22441ee19bd6",
   "metadata": {},
   "outputs": [],
   "source": [
    "arr[0,1] = 45"
   ]
  },
  {
   "cell_type": "code",
   "execution_count": 87,
   "id": "70e8aef0-7284-4f44-8a0c-47a79a9ca594",
   "metadata": {},
   "outputs": [
    {
     "data": {
      "text/plain": [
       "array([[ 1, 45,  3],\n",
       "       [ 4,  5,  6],\n",
       "       [ 7,  8,  9]])"
      ]
     },
     "execution_count": 87,
     "metadata": {},
     "output_type": "execute_result"
    }
   ],
   "source": [
    "arr"
   ]
  },
  {
   "cell_type": "code",
   "execution_count": 88,
   "id": "6e2d34b7-199f-49a6-85c4-acd76d41d869",
   "metadata": {},
   "outputs": [],
   "source": [
    "arr.sort()"
   ]
  },
  {
   "cell_type": "code",
   "execution_count": 89,
   "id": "edc1a85b-7788-46b9-abc1-a498ad7d1088",
   "metadata": {},
   "outputs": [
    {
     "data": {
      "text/plain": [
       "array([[ 1,  3, 45],\n",
       "       [ 4,  5,  6],\n",
       "       [ 7,  8,  9]])"
      ]
     },
     "execution_count": 89,
     "metadata": {},
     "output_type": "execute_result"
    }
   ],
   "source": [
    "arr"
   ]
  },
  {
   "cell_type": "code",
   "execution_count": 90,
   "id": "d53ef175-13f1-4de9-a7ed-18b7963c1e09",
   "metadata": {},
   "outputs": [
    {
     "data": {
      "text/plain": [
       "array([[0, 0, 1],\n",
       "       [1, 1, 2],\n",
       "       [2, 2, 0]], dtype=int64)"
      ]
     },
     "execution_count": 90,
     "metadata": {},
     "output_type": "execute_result"
    }
   ],
   "source": [
    "arr.argsort(axis=0)"
   ]
  },
  {
   "cell_type": "code",
   "execution_count": 91,
   "id": "6c16539f-11a1-4345-8812-57d3c510763a",
   "metadata": {},
   "outputs": [],
   "source": [
    "a = arr.argsort(axis=1)"
   ]
  },
  {
   "cell_type": "code",
   "execution_count": 92,
   "id": "4debb16e-dd73-43e9-856b-a145eedd815f",
   "metadata": {},
   "outputs": [
    {
     "name": "stdout",
     "output_type": "stream",
     "text": [
      "0\n",
      "1\n",
      "2\n",
      "0\n",
      "1\n",
      "2\n",
      "0\n",
      "1\n",
      "2\n"
     ]
    }
   ],
   "source": [
    "for i in  a.flat:\n",
    "    print(i)"
   ]
  },
  {
   "cell_type": "code",
   "execution_count": 93,
   "id": "6b5e8013-4dc2-49d2-aaeb-0ad47494afa9",
   "metadata": {},
   "outputs": [
    {
     "data": {
      "text/plain": [
       "array([[ 1,  3, 45],\n",
       "       [ 4,  5,  6],\n",
       "       [ 7,  8,  9]])"
      ]
     },
     "execution_count": 93,
     "metadata": {},
     "output_type": "execute_result"
    }
   ],
   "source": [
    "arr"
   ]
  },
  {
   "cell_type": "code",
   "execution_count": 94,
   "id": "c9b5a323-a214-4a4d-a6d3-c0bddb6ba5a1",
   "metadata": {},
   "outputs": [
    {
     "data": {
      "text/plain": [
       "array([ 1,  3, 45,  4,  5,  6,  7,  8,  9])"
      ]
     },
     "execution_count": 94,
     "metadata": {},
     "output_type": "execute_result"
    }
   ],
   "source": [
    "arr.ravel()"
   ]
  },
  {
   "cell_type": "code",
   "execution_count": 95,
   "id": "c80b40f7-12fe-4391-8d25-905273be4bc9",
   "metadata": {},
   "outputs": [],
   "source": [
    "arr.sort()"
   ]
  },
  {
   "cell_type": "code",
   "execution_count": 96,
   "id": "56fbd83f-d479-4e2d-a107-d479a67064f2",
   "metadata": {},
   "outputs": [
    {
     "data": {
      "text/plain": [
       "array([[ 1,  3, 45],\n",
       "       [ 4,  5,  6],\n",
       "       [ 7,  8,  9]])"
      ]
     },
     "execution_count": 96,
     "metadata": {},
     "output_type": "execute_result"
    }
   ],
   "source": [
    "arr"
   ]
  },
  {
   "cell_type": "code",
   "execution_count": 97,
   "id": "f02cb467-cdac-4c5a-90b1-9d4578c3fc4b",
   "metadata": {},
   "outputs": [],
   "source": [
    "a = arr.ravel()"
   ]
  },
  {
   "cell_type": "code",
   "execution_count": 98,
   "id": "d7a6d563-8ce9-4c91-9dfe-5e1fdd4e38b4",
   "metadata": {},
   "outputs": [
    {
     "data": {
      "text/plain": [
       "array([ 1,  3, 45,  4,  5,  6,  7,  8,  9])"
      ]
     },
     "execution_count": 98,
     "metadata": {},
     "output_type": "execute_result"
    }
   ],
   "source": [
    "a"
   ]
  },
  {
   "cell_type": "code",
   "execution_count": 99,
   "id": "58009e92-2232-4f2c-a74e-13452839de41",
   "metadata": {},
   "outputs": [],
   "source": [
    "a.sort()"
   ]
  },
  {
   "cell_type": "code",
   "execution_count": 100,
   "id": "eb7502d2-b931-476b-8546-112f83b6f419",
   "metadata": {},
   "outputs": [
    {
     "data": {
      "text/plain": [
       "array([ 1,  3,  4,  5,  6,  7,  8,  9, 45])"
      ]
     },
     "execution_count": 100,
     "metadata": {},
     "output_type": "execute_result"
    }
   ],
   "source": [
    "a"
   ]
  },
  {
   "cell_type": "code",
   "execution_count": 101,
   "id": "35b85862-e81f-48ea-855d-f49e6626bbcf",
   "metadata": {},
   "outputs": [
    {
     "data": {
      "text/plain": [
       "array([[ 1,  3,  4],\n",
       "       [ 5,  6,  7],\n",
       "       [ 8,  9, 45]])"
      ]
     },
     "execution_count": 101,
     "metadata": {},
     "output_type": "execute_result"
    }
   ],
   "source": [
    "a.reshape((3,3))"
   ]
  },
  {
   "cell_type": "code",
   "execution_count": 102,
   "id": "4b11f031-a6ed-4b7e-b2ce-9be49c3ed227",
   "metadata": {},
   "outputs": [
    {
     "data": {
      "text/plain": [
       "array([[ 1,  3,  4],\n",
       "       [ 5,  6,  7],\n",
       "       [ 8,  9, 45]])"
      ]
     },
     "execution_count": 102,
     "metadata": {},
     "output_type": "execute_result"
    }
   ],
   "source": [
    "arr"
   ]
  },
  {
   "cell_type": "markdown",
   "id": "5a5906d6-8ffa-499b-b172-f8f35db0af81",
   "metadata": {},
   "source": [
    "we can also do matrix operation in numpy like matrix addition, multiplication etc. we cannot do this in list bcz agr list mai + lagaenge ti wo concatenate kr ke dedegi do ke elements ko but numpt add krdeta hai."
   ]
  },
  {
   "cell_type": "code",
   "execution_count": 103,
   "id": "93de2713-1f4e-4304-a5b1-bea9d8b2176b",
   "metadata": {},
   "outputs": [],
   "source": [
    "arr2 = np.array([[ 1,  3,  4],\n",
    "       [ 1,  3,  7],\n",
    "       [ 8,  2, 1]])"
   ]
  },
  {
   "cell_type": "code",
   "execution_count": 104,
   "id": "a73cbd45-9933-4182-b67e-e8b4362b1346",
   "metadata": {},
   "outputs": [
    {
     "data": {
      "text/plain": [
       "array([[ 2,  6,  8],\n",
       "       [ 6,  9, 14],\n",
       "       [16, 11, 46]])"
      ]
     },
     "execution_count": 104,
     "metadata": {},
     "output_type": "execute_result"
    }
   ],
   "source": [
    "arr+arr2"
   ]
  },
  {
   "cell_type": "code",
   "execution_count": 105,
   "id": "56022140-afeb-4f3f-96cc-30687433bf62",
   "metadata": {},
   "outputs": [
    {
     "data": {
      "text/plain": [
       "array([[ 1,  9, 16],\n",
       "       [ 5, 18, 49],\n",
       "       [64, 18, 45]])"
      ]
     },
     "execution_count": 105,
     "metadata": {},
     "output_type": "execute_result"
    }
   ],
   "source": [
    "arr*arr2"
   ]
  },
  {
   "cell_type": "code",
   "execution_count": 106,
   "id": "3ae171f7-ce3c-456f-84d5-05dd2c5caf30",
   "metadata": {},
   "outputs": [
    {
     "data": {
      "text/plain": [
       "array([[ 0,  0,  0],\n",
       "       [ 4,  3,  0],\n",
       "       [ 0,  7, 44]])"
      ]
     },
     "execution_count": 106,
     "metadata": {},
     "output_type": "execute_result"
    }
   ],
   "source": [
    "arr-arr2"
   ]
  },
  {
   "cell_type": "code",
   "execution_count": 107,
   "id": "5d5a6d50-5079-4165-955a-ed0f963ff51d",
   "metadata": {},
   "outputs": [
    {
     "data": {
      "text/plain": [
       "array([[  0,   0,   0],\n",
       "       [ -4,  -3,   0],\n",
       "       [  0,  -7, -44]])"
      ]
     },
     "execution_count": 107,
     "metadata": {},
     "output_type": "execute_result"
    }
   ],
   "source": [
    "arr2-arr"
   ]
  },
  {
   "cell_type": "code",
   "execution_count": 108,
   "id": "a968e49f-21b8-44c2-98f6-2f27365e744a",
   "metadata": {},
   "outputs": [
    {
     "data": {
      "text/plain": [
       "array([[ 1. ,  1. ,  1. ],\n",
       "       [ 5. ,  2. ,  1. ],\n",
       "       [ 1. ,  4.5, 45. ]])"
      ]
     },
     "execution_count": 108,
     "metadata": {},
     "output_type": "execute_result"
    }
   ],
   "source": [
    "arr/arr2"
   ]
  },
  {
   "cell_type": "markdown",
   "id": "8ceea286-2280-4c4d-a0bc-abbff345b58d",
   "metadata": {},
   "source": [
    "you can also take square root of all array"
   ]
  },
  {
   "cell_type": "code",
   "execution_count": 109,
   "id": "415a51f6-f629-430b-b391-504273b4b41e",
   "metadata": {},
   "outputs": [
    {
     "data": {
      "text/plain": [
       "array([[1.        , 1.73205081, 2.        ],\n",
       "       [2.23606798, 2.44948974, 2.64575131],\n",
       "       [2.82842712, 3.        , 6.70820393]])"
      ]
     },
     "execution_count": 109,
     "metadata": {},
     "output_type": "execute_result"
    }
   ],
   "source": [
    "np.sqrt(arr)"
   ]
  },
  {
   "cell_type": "code",
   "execution_count": 110,
   "id": "1c32a151-6864-43d4-9951-50fd9a6269c8",
   "metadata": {},
   "outputs": [
    {
     "data": {
      "text/plain": [
       "array([[1.        , 1.73205081, 2.        ],\n",
       "       [1.        , 1.73205081, 2.64575131],\n",
       "       [2.82842712, 1.41421356, 1.        ]])"
      ]
     },
     "execution_count": 110,
     "metadata": {},
     "output_type": "execute_result"
    }
   ],
   "source": [
    "np.sqrt(arr2)"
   ]
  },
  {
   "cell_type": "code",
   "execution_count": 111,
   "id": "aec7dd61-a4d9-4734-ad08-df0fc3a11d05",
   "metadata": {},
   "outputs": [],
   "source": [
    "a = np.sqrt(arr)"
   ]
  },
  {
   "cell_type": "code",
   "execution_count": 112,
   "id": "08dceab4-2014-4134-b85d-c9616f9bf2c0",
   "metadata": {},
   "outputs": [],
   "source": [
    "b = np.sqrt(arr2)"
   ]
  },
  {
   "cell_type": "code",
   "execution_count": 113,
   "id": "8eafe490-034b-40ca-b07f-e4f17fbebc28",
   "metadata": {},
   "outputs": [
    {
     "data": {
      "text/plain": [
       "array([[2.        , 3.46410162, 4.        ],\n",
       "       [3.23606798, 4.18154055, 5.29150262],\n",
       "       [5.65685425, 4.41421356, 7.70820393]])"
      ]
     },
     "execution_count": 113,
     "metadata": {},
     "output_type": "execute_result"
    }
   ],
   "source": [
    "a+b"
   ]
  },
  {
   "cell_type": "code",
   "execution_count": 114,
   "id": "2a62b567-946f-4fac-8135-2949bbc54a56",
   "metadata": {},
   "outputs": [
    {
     "data": {
      "text/plain": [
       "array([[ 1,  3,  4],\n",
       "       [ 5,  6,  7],\n",
       "       [ 8,  9, 45]])"
      ]
     },
     "execution_count": 114,
     "metadata": {},
     "output_type": "execute_result"
    }
   ],
   "source": [
    "arr"
   ]
  },
  {
   "cell_type": "code",
   "execution_count": 115,
   "id": "41a4772f-628e-432c-a3a5-c577e0e67a5f",
   "metadata": {},
   "outputs": [
    {
     "data": {
      "text/plain": [
       "88"
      ]
     },
     "execution_count": 115,
     "metadata": {},
     "output_type": "execute_result"
    }
   ],
   "source": [
    "arr.sum()"
   ]
  },
  {
   "cell_type": "markdown",
   "id": "e4a7dd34-20da-476e-9577-f0e9de642bc9",
   "metadata": {},
   "source": [
    "agr elements ko find krna ke like greater than 8 elements kha hai arra y mai tu where() ka use krskte hai.where() method indexs btadega ke element kha hai or ye tuple return krta hai."
   ]
  },
  {
   "cell_type": "code",
   "execution_count": 116,
   "id": "fbb94316-e424-4785-8937-383dad8aae33",
   "metadata": {},
   "outputs": [
    {
     "data": {
      "text/plain": [
       "array([[ 1,  3,  4],\n",
       "       [ 5,  6,  7],\n",
       "       [ 8,  9, 45]])"
      ]
     },
     "execution_count": 116,
     "metadata": {},
     "output_type": "execute_result"
    }
   ],
   "source": [
    "arr"
   ]
  },
  {
   "cell_type": "code",
   "execution_count": 117,
   "id": "89df5f04-fa01-40d8-adc0-fd7251499432",
   "metadata": {},
   "outputs": [
    {
     "data": {
      "text/plain": [
       "(array([2, 2], dtype=int64), array([1, 2], dtype=int64))"
      ]
     },
     "execution_count": 117,
     "metadata": {},
     "output_type": "execute_result"
    }
   ],
   "source": [
    "np.where(arr>8)"
   ]
  },
  {
   "cell_type": "code",
   "execution_count": 118,
   "id": "39d0c7db-96c8-4b32-b752-90ae269dcb79",
   "metadata": {},
   "outputs": [
    {
     "data": {
      "text/plain": [
       "array([  1,   2,   3,   4, 674])"
      ]
     },
     "execution_count": 118,
     "metadata": {},
     "output_type": "execute_result"
    }
   ],
   "source": [
    "new_arr"
   ]
  },
  {
   "cell_type": "code",
   "execution_count": 119,
   "id": "ff0c283b-1331-4084-b215-fbe66e40fdb9",
   "metadata": {},
   "outputs": [
    {
     "data": {
      "text/plain": [
       "(array([4], dtype=int64),)"
      ]
     },
     "execution_count": 119,
     "metadata": {},
     "output_type": "execute_result"
    }
   ],
   "source": [
    "np.where(new_arr>4)"
   ]
  },
  {
   "cell_type": "code",
   "execution_count": 120,
   "id": "23190496-7cfe-4cce-a1ee-9bb4b5dd022f",
   "metadata": {},
   "outputs": [
    {
     "data": {
      "text/plain": [
       "9"
      ]
     },
     "execution_count": 120,
     "metadata": {},
     "output_type": "execute_result"
    }
   ],
   "source": [
    "np.count_nonzero(arr)"
   ]
  },
  {
   "cell_type": "markdown",
   "id": "b2edcde9-dbd9-48b2-84c0-d197ce86c888",
   "metadata": {},
   "source": [
    "count_nonzero() ye btata hai ke array mai kitne non-zeros number hai ye total element nhi btata means ke agr 0 hai array mai tu ye 8 btaega total ke lie .size use krte hai size is an attribute"
   ]
  },
  {
   "cell_type": "code",
   "execution_count": 121,
   "id": "63164d1b-3321-44e9-8078-5e1aabee2f66",
   "metadata": {},
   "outputs": [
    {
     "data": {
      "text/plain": [
       "9"
      ]
     },
     "execution_count": 121,
     "metadata": {},
     "output_type": "execute_result"
    }
   ],
   "source": [
    "arr.size"
   ]
  },
  {
   "cell_type": "code",
   "execution_count": 122,
   "id": "fb204930-1159-493f-9f30-100a2b7c1c53",
   "metadata": {},
   "outputs": [
    {
     "data": {
      "text/plain": [
       "(array([0, 0, 0, 1, 1, 1, 2, 2, 2], dtype=int64),\n",
       " array([0, 1, 2, 0, 1, 2, 0, 1, 2], dtype=int64))"
      ]
     },
     "execution_count": 122,
     "metadata": {},
     "output_type": "execute_result"
    }
   ],
   "source": [
    "np.nonzero(arr)"
   ]
  },
  {
   "cell_type": "markdown",
   "id": "99f4b4b6-51cd-4042-ad46-b26946f8661c",
   "metadata": {},
   "source": [
    "np.nonzero() wo sari indexes miljaengi jha zero nhi hai"
   ]
  },
  {
   "cell_type": "markdown",
   "id": "7e8d2d21-3feb-492a-a6e6-58beeb9a7108",
   "metadata": {},
   "source": [
    "We talk about numpy array size km leta hai as compare to python list let shown as eg"
   ]
  },
  {
   "cell_type": "code",
   "execution_count": 123,
   "id": "cbc51489-3fe1-4b08-bf99-6dc56a246009",
   "metadata": {},
   "outputs": [],
   "source": [
    "import sys"
   ]
  },
  {
   "cell_type": "code",
   "execution_count": 124,
   "id": "6f06ec0e-ac4d-4d6a-9525-d078dd63142c",
   "metadata": {},
   "outputs": [],
   "source": [
    "py_arr = [1,2,3,4]"
   ]
  },
  {
   "cell_type": "code",
   "execution_count": 125,
   "id": "c39f2c90-649d-423d-8b19-462f4b023ed5",
   "metadata": {},
   "outputs": [],
   "source": [
    "np_arr = np.array(py_arr)"
   ]
  },
  {
   "cell_type": "code",
   "execution_count": 126,
   "id": "eb4605da-bcbf-49a1-b913-f8a6a7191af0",
   "metadata": {},
   "outputs": [
    {
     "data": {
      "text/plain": [
       "112"
      ]
     },
     "execution_count": 126,
     "metadata": {},
     "output_type": "execute_result"
    }
   ],
   "source": [
    "sys.getsizeof(1) * len(py_arr)"
   ]
  },
  {
   "cell_type": "code",
   "execution_count": 127,
   "id": "38044fe1-5c7e-47a2-9eaa-5e737cb851fb",
   "metadata": {},
   "outputs": [
    {
     "data": {
      "text/plain": [
       "16"
      ]
     },
     "execution_count": 127,
     "metadata": {},
     "output_type": "execute_result"
    }
   ],
   "source": [
    "np_arr.itemsize * np_arr.size"
   ]
  },
  {
   "cell_type": "markdown",
   "id": "e437e632-5c06-49d2-8a2e-a88ac0e45ecb",
   "metadata": {},
   "source": [
    "getsizeof or itemsize se ek ka size aajata hai then phir usse total numbers se mult krdya. or you can see the above eg that python list allocate 112 byte in memory and numpy array just take 16 just it means numpy array ie very much efficient then list"
   ]
  },
  {
   "cell_type": "code",
   "execution_count": 128,
   "id": "5e8d4816-8250-4351-b67d-255ab6e2ddda",
   "metadata": {},
   "outputs": [
    {
     "data": {
      "text/plain": [
       "array([[ 1,  3,  4],\n",
       "       [ 5,  6,  7],\n",
       "       [ 8,  9, 45]])"
      ]
     },
     "execution_count": 128,
     "metadata": {},
     "output_type": "execute_result"
    }
   ],
   "source": [
    "arr"
   ]
  },
  {
   "cell_type": "code",
   "execution_count": 129,
   "id": "cbfbc795-e907-4af1-bc7f-fa5d4573ae8b",
   "metadata": {},
   "outputs": [
    {
     "data": {
      "text/plain": [
       "[[1, 3, 4], [5, 6, 7], [8, 9, 45]]"
      ]
     },
     "execution_count": 129,
     "metadata": {},
     "output_type": "execute_result"
    }
   ],
   "source": [
    "arr.tolist()"
   ]
  },
  {
   "cell_type": "markdown",
   "id": "ed356090-0641-4cfb-a07d-65659594f97e",
   "metadata": {},
   "source": [
    "tolist() converts the numpy array to the python list"
   ]
  },
  {
   "cell_type": "code",
   "execution_count": 14,
   "id": "c4717e6a-adaa-49a2-9df1-e2f5165c800a",
   "metadata": {},
   "outputs": [
    {
     "name": "stdout",
     "output_type": "stream",
     "text": [
      "Numpy array took:  19.333600997924805\n",
      "Pyhon list took:  2034.4624519348145\n"
     ]
    }
   ],
   "source": [
    "# Check numpy array is faster than python list\n",
    "import numpy as np\n",
    "import time\n",
    "SIZE = 10000000\n",
    "a1 = np.arange(SIZE)\n",
    "a2 = np.arange(SIZE)\n",
    "start = time.time()\n",
    "result = a1+a2\n",
    "print(\"Numpy array took: \",(time.time()-start)*1000)\n",
    "\n",
    "l1 = range(SIZE)\n",
    "l2 = range(SIZE)\n",
    "start = time.time()\n",
    "result = [(x+y) for x,y in zip(l1,l2)]\n",
    "print(\"Pyhon list took: \",(time.time()-start)*1000)"
   ]
  },
  {
   "cell_type": "code",
   "execution_count": 29,
   "id": "9902dbbc-a05d-4cd2-bb47-0d1513ab5a8f",
   "metadata": {},
   "outputs": [
    {
     "data": {
      "text/plain": [
       "array([[5, 6],\n",
       "       [7, 8]])"
      ]
     },
     "execution_count": 29,
     "metadata": {},
     "output_type": "execute_result"
    }
   ],
   "source": [
    "a = np.array([[1,2],[3,4]])\n",
    "b = np.array([[5,6],[7,8]])\n",
    "a\n",
    "b"
   ]
  },
  {
   "cell_type": "code",
   "execution_count": 30,
   "id": "81b1f359-1781-4401-931d-eb293bdc3bc5",
   "metadata": {},
   "outputs": [
    {
     "data": {
      "text/plain": [
       "array([[1, 2],\n",
       "       [3, 4]])"
      ]
     },
     "execution_count": 30,
     "metadata": {},
     "output_type": "execute_result"
    }
   ],
   "source": [
    "a"
   ]
  },
  {
   "cell_type": "code",
   "execution_count": 31,
   "id": "08443b76-7f65-4981-8c47-0750651bb85a",
   "metadata": {},
   "outputs": [
    {
     "data": {
      "text/plain": [
       "array([[ 5, 12],\n",
       "       [21, 32]])"
      ]
     },
     "execution_count": 31,
     "metadata": {},
     "output_type": "execute_result"
    }
   ],
   "source": [
    "c = a*b\n",
    "c"
   ]
  },
  {
   "cell_type": "code",
   "execution_count": 39,
   "id": "5aff2914-70d6-4a95-ba7a-cc9036dc82fa",
   "metadata": {},
   "outputs": [
    {
     "data": {
      "text/plain": [
       "array([[19, 22],\n",
       "       [43, 50]])"
      ]
     },
     "execution_count": 39,
     "metadata": {},
     "output_type": "execute_result"
    }
   ],
   "source": [
    "d = np.dot(a,b)\n",
    "d"
   ]
  },
  {
   "cell_type": "code",
   "execution_count": 40,
   "id": "3330097e-ac3e-4d35-a2e9-eb486e385453",
   "metadata": {},
   "outputs": [
    {
     "data": {
      "text/plain": [
       "1.118033988749895"
      ]
     },
     "execution_count": 40,
     "metadata": {},
     "output_type": "execute_result"
    }
   ],
   "source": [
    "s = np.std(a)\n",
    "s"
   ]
  },
  {
   "cell_type": "code",
   "execution_count": 41,
   "id": "712f56eb-3728-41bc-ae9a-2b835e6c6d2b",
   "metadata": {},
   "outputs": [
    {
     "data": {
      "text/plain": [
       "1.118033988749895"
      ]
     },
     "execution_count": 41,
     "metadata": {},
     "output_type": "execute_result"
    }
   ],
   "source": [
    "s1 = np.std(b)\n",
    "s1"
   ]
  },
  {
   "cell_type": "code",
   "execution_count": 42,
   "id": "2f31cdb6-1f78-42a3-8162-4f233cbf999d",
   "metadata": {},
   "outputs": [
    {
     "data": {
      "text/plain": [
       "array([-4, -4])"
      ]
     },
     "execution_count": 42,
     "metadata": {},
     "output_type": "execute_result"
    }
   ],
   "source": [
    "d = np.cross(a,b)\n",
    "d"
   ]
  },
  {
   "cell_type": "code",
   "execution_count": 47,
   "id": "646e1379-90c4-4845-b64f-632dc24c91b8",
   "metadata": {},
   "outputs": [
    {
     "data": {
      "text/plain": [
       "array([[1, 2],\n",
       "       [3, 4],\n",
       "       [5, 6],\n",
       "       [7, 8]])"
      ]
     },
     "execution_count": 47,
     "metadata": {},
     "output_type": "execute_result"
    }
   ],
   "source": [
    "# Stack(combine/concatenate) 2 numpy array\n",
    "resv = np.vstack((a,b))\n",
    "resv"
   ]
  },
  {
   "cell_type": "code",
   "execution_count": 48,
   "id": "f5c01a8f-e19d-41d3-a48a-75cd0894dca2",
   "metadata": {},
   "outputs": [
    {
     "data": {
      "text/plain": [
       "array([[1, 2, 5, 6],\n",
       "       [3, 4, 7, 8]])"
      ]
     },
     "execution_count": 48,
     "metadata": {},
     "output_type": "execute_result"
    }
   ],
   "source": [
    "resh = np.hstack((a,b))\n",
    "resh"
   ]
  },
  {
   "cell_type": "code",
   "execution_count": 49,
   "id": "90430ab4-355a-42cb-9375-72a04c32cfe4",
   "metadata": {},
   "outputs": [],
   "source": [
    "#Split array\n",
    "arr = np.arange(30).reshape(2,15)"
   ]
  },
  {
   "cell_type": "code",
   "execution_count": 50,
   "id": "d0bf8155-b131-4410-984a-5de6f4caef7a",
   "metadata": {},
   "outputs": [
    {
     "data": {
      "text/plain": [
       "array([[ 0,  1,  2,  3,  4,  5,  6,  7,  8,  9, 10, 11, 12, 13, 14],\n",
       "       [15, 16, 17, 18, 19, 20, 21, 22, 23, 24, 25, 26, 27, 28, 29]])"
      ]
     },
     "execution_count": 50,
     "metadata": {},
     "output_type": "execute_result"
    }
   ],
   "source": [
    "arr"
   ]
  },
  {
   "cell_type": "code",
   "execution_count": 51,
   "id": "5ed2a2f4-053b-4801-86ca-8aca06dbf8e9",
   "metadata": {},
   "outputs": [
    {
     "data": {
      "text/plain": [
       "[array([[ 0,  1,  2,  3,  4],\n",
       "        [15, 16, 17, 18, 19]]),\n",
       " array([[ 5,  6,  7,  8,  9],\n",
       "        [20, 21, 22, 23, 24]]),\n",
       " array([[10, 11, 12, 13, 14],\n",
       "        [25, 26, 27, 28, 29]])]"
      ]
     },
     "execution_count": 51,
     "metadata": {},
     "output_type": "execute_result"
    }
   ],
   "source": [
    "arr = np.hsplit(arr,3)\n",
    "arr"
   ]
  },
  {
   "cell_type": "code",
   "execution_count": 52,
   "id": "2bc12a22-751c-4f98-8aad-17f07feb552b",
   "metadata": {},
   "outputs": [
    {
     "data": {
      "text/plain": [
       "[array([[ 0,  1,  2,  3,  4],\n",
       "        [15, 16, 17, 18, 19]]),\n",
       " array([[ 5,  6,  7,  8,  9],\n",
       "        [20, 21, 22, 23, 24]]),\n",
       " array([[10, 11, 12, 13, 14],\n",
       "        [25, 26, 27, 28, 29]])]"
      ]
     },
     "execution_count": 52,
     "metadata": {},
     "output_type": "execute_result"
    }
   ],
   "source": [
    "arr"
   ]
  },
  {
   "cell_type": "code",
   "execution_count": 53,
   "id": "e91a8469-1a58-4a78-8366-9af9f7102eb6",
   "metadata": {},
   "outputs": [
    {
     "data": {
      "text/plain": [
       "array([[ 0,  1,  2,  3,  4,  5,  6,  7,  8,  9, 10, 11, 12, 13, 14],\n",
       "       [15, 16, 17, 18, 19, 20, 21, 22, 23, 24, 25, 26, 27, 28, 29]])"
      ]
     },
     "execution_count": 53,
     "metadata": {},
     "output_type": "execute_result"
    }
   ],
   "source": [
    "arr = np.arange(30).reshape(2,15)\n",
    "arr"
   ]
  },
  {
   "cell_type": "code",
   "execution_count": 56,
   "id": "eaa4bfcb-7458-49dc-b04c-9e4a348aa481",
   "metadata": {},
   "outputs": [
    {
     "data": {
      "text/plain": [
       "array([[ 0,  1,  2,  3,  4,  5,  6,  7,  8,  9],\n",
       "       [10, 11, 12, 13, 14, 15, 16, 17, 18, 19],\n",
       "       [20, 21, 22, 23, 24, 25, 26, 27, 28, 29]])"
      ]
     },
     "execution_count": 56,
     "metadata": {},
     "output_type": "execute_result"
    }
   ],
   "source": [
    "arr = arr.reshape(3,10)\n",
    "arr"
   ]
  },
  {
   "cell_type": "code",
   "execution_count": 57,
   "id": "c4d63f50-2818-4e94-a1b1-243b05f587b3",
   "metadata": {},
   "outputs": [
    {
     "data": {
      "text/plain": [
       "array([[ 0,  1,  2,  3,  4,  5,  6,  7,  8,  9],\n",
       "       [10, 11, 12, 13, 14, 15, 16, 17, 18, 19],\n",
       "       [20, 21, 22, 23, 24, 25, 26, 27, 28, 29]])"
      ]
     },
     "execution_count": 57,
     "metadata": {},
     "output_type": "execute_result"
    }
   ],
   "source": [
    "arr"
   ]
  },
  {
   "cell_type": "code",
   "execution_count": 58,
   "id": "cf1ed4dc-c9e3-4ad0-bd6e-1049523bc4f2",
   "metadata": {},
   "outputs": [
    {
     "data": {
      "text/plain": [
       "array([ 0,  1,  2,  3,  4,  5,  6,  7,  8,  9, 10, 11, 12, 13, 14, 15, 16,\n",
       "       17, 18, 19, 20, 21, 22, 23, 24, 25, 26, 27, 28, 29])"
      ]
     },
     "execution_count": 58,
     "metadata": {},
     "output_type": "execute_result"
    }
   ],
   "source": [
    "arr = np.arange(30)\n",
    "arr"
   ]
  },
  {
   "cell_type": "code",
   "execution_count": 59,
   "id": "e0469067-a2a9-4f66-b443-b1a2b6384510",
   "metadata": {},
   "outputs": [
    {
     "data": {
      "text/plain": [
       "array([[ 0,  1,  2,  3,  4,  5,  6,  7,  8,  9, 10, 11, 12, 13, 14],\n",
       "       [15, 16, 17, 18, 19, 20, 21, 22, 23, 24, 25, 26, 27, 28, 29]])"
      ]
     },
     "execution_count": 59,
     "metadata": {},
     "output_type": "execute_result"
    }
   ],
   "source": [
    "arr = arr.reshape(2,15)\n",
    "arr"
   ]
  },
  {
   "cell_type": "code",
   "execution_count": 60,
   "id": "35d69652-08e8-412c-9a3b-dc6c4099bc0a",
   "metadata": {},
   "outputs": [
    {
     "data": {
      "text/plain": [
       "[array([[ 0,  1,  2,  3,  4],\n",
       "        [15, 16, 17, 18, 19]]),\n",
       " array([[ 5,  6,  7,  8,  9],\n",
       "        [20, 21, 22, 23, 24]]),\n",
       " array([[10, 11, 12, 13, 14],\n",
       "        [25, 26, 27, 28, 29]])]"
      ]
     },
     "execution_count": 60,
     "metadata": {},
     "output_type": "execute_result"
    }
   ],
   "source": [
    "arr = np.hsplit(arr,3)\n",
    "arr"
   ]
  },
  {
   "cell_type": "code",
   "execution_count": 70,
   "id": "79148fe1-a9f6-4faf-84fe-04cce694e2e9",
   "metadata": {},
   "outputs": [
    {
     "data": {
      "text/plain": [
       "array([ 0,  1,  2,  3,  4,  5,  6,  7,  8,  9, 10, 11, 12, 13, 14, 15, 16,\n",
       "       17, 18, 19, 20, 21, 22, 23, 24, 25, 26, 27, 28, 29])"
      ]
     },
     "execution_count": 70,
     "metadata": {},
     "output_type": "execute_result"
    }
   ],
   "source": [
    "arr = np.arange(30)\n",
    "arr"
   ]
  },
  {
   "cell_type": "code",
   "execution_count": 71,
   "id": "1d6d3f35-a4e4-4757-88a7-6907340aefce",
   "metadata": {},
   "outputs": [
    {
     "data": {
      "text/plain": [
       "[array([0, 1, 2, 3, 4, 5, 6, 7, 8, 9]),\n",
       " array([10, 11, 12, 13, 14, 15, 16, 17, 18, 19]),\n",
       " array([20, 21, 22, 23, 24, 25, 26, 27, 28, 29])]"
      ]
     },
     "execution_count": 71,
     "metadata": {},
     "output_type": "execute_result"
    }
   ],
   "source": [
    "arr = np.hsplit(arr,3)\n",
    "arr"
   ]
  },
  {
   "cell_type": "code",
   "execution_count": 64,
   "id": "8ccfcadc-b9fd-4ae4-84c1-450ac773d13e",
   "metadata": {},
   "outputs": [
    {
     "data": {
      "text/plain": [
       "array([ 0,  1,  2,  3,  4,  5,  6,  7,  8,  9, 10, 11, 12, 13, 14, 15, 16,\n",
       "       17, 18, 19, 20, 21, 22, 23, 24, 25, 26, 27, 28, 29])"
      ]
     },
     "execution_count": 64,
     "metadata": {},
     "output_type": "execute_result"
    }
   ],
   "source": [
    "arr = np.arange(30)\n",
    "arr"
   ]
  },
  {
   "cell_type": "code",
   "execution_count": 75,
   "id": "0271005f-ade8-458c-893b-a482d78f2ddf",
   "metadata": {},
   "outputs": [
    {
     "data": {
      "text/plain": [
       "array([[ 0,  1,  2,  3],\n",
       "       [ 4,  5,  6,  7],\n",
       "       [ 8,  9, 10, 11]])"
      ]
     },
     "execution_count": 75,
     "metadata": {},
     "output_type": "execute_result"
    }
   ],
   "source": [
    "# boolean operation: if you find a numbers like greater than 4 so:\n",
    "a = np.arange(12).reshape(3,4)\n",
    "a"
   ]
  },
  {
   "cell_type": "code",
   "execution_count": 76,
   "id": "8fd4a9c5-1c73-4a8e-9865-d80aefc9f5f5",
   "metadata": {},
   "outputs": [
    {
     "data": {
      "text/plain": [
       "array([[False, False, False, False],\n",
       "       [False,  True,  True,  True],\n",
       "       [ True,  True,  True,  True]])"
      ]
     },
     "execution_count": 76,
     "metadata": {},
     "output_type": "execute_result"
    }
   ],
   "source": [
    "b = a>4\n",
    "b"
   ]
  },
  {
   "cell_type": "code",
   "execution_count": 77,
   "id": "c6fe5e32-e1c9-4d26-800a-2c2972aa8df8",
   "metadata": {},
   "outputs": [
    {
     "data": {
      "text/plain": [
       "array([ 5,  6,  7,  8,  9, 10, 11])"
      ]
     },
     "execution_count": 77,
     "metadata": {},
     "output_type": "execute_result"
    }
   ],
   "source": [
    "a[b] # jha jha true likha hai wha ke element dedega"
   ]
  },
  {
   "cell_type": "code",
   "execution_count": 78,
   "id": "6f9bcf65-96e8-4941-85b8-d27b14e43c46",
   "metadata": {},
   "outputs": [
    {
     "data": {
      "text/plain": [
       "array([[0, 1, 2, 3],\n",
       "       [4, 1, 1, 1],\n",
       "       [1, 1, 1, 1]])"
      ]
     },
     "execution_count": 78,
     "metadata": {},
     "output_type": "execute_result"
    }
   ],
   "source": [
    "#if you want jha bhi greater than 4 number hai wha 1 aajae so:\n",
    "a[b] = 1\n",
    "a"
   ]
  },
  {
   "cell_type": "code",
   "execution_count": 85,
   "id": "bcd37f9f-b389-4870-bf41-f48f3e8eda48",
   "metadata": {},
   "outputs": [
    {
     "data": {
      "text/plain": [
       "array([[ 0,  1,  2,  3],\n",
       "       [ 4,  5,  6,  7],\n",
       "       [ 8,  9, 10, 11]])"
      ]
     },
     "execution_count": 85,
     "metadata": {},
     "output_type": "execute_result"
    }
   ],
   "source": [
    "#Read write text file using numpy array, more suitable for numeric data\n",
    "arr = np.arange(12).reshape(3,4)\n",
    "arr"
   ]
  },
  {
   "cell_type": "code",
   "execution_count": 86,
   "id": "e77bf61b-43f6-442d-85e6-0d64914840cd",
   "metadata": {},
   "outputs": [],
   "source": [
    "np.savetxt(\"test.txt\",arr)"
   ]
  },
  {
   "cell_type": "code",
   "execution_count": 87,
   "id": "f60e0503-c12c-4537-abaa-4e90f8b6376d",
   "metadata": {},
   "outputs": [
    {
     "data": {
      "text/plain": [
       "array([[ 0.,  1.,  2.,  3.],\n",
       "       [ 4.,  5.,  6.,  7.],\n",
       "       [ 8.,  9., 10., 11.]])"
      ]
     },
     "execution_count": 87,
     "metadata": {},
     "output_type": "execute_result"
    }
   ],
   "source": [
    "y = np.loadtxt(\"test.txt\")\n",
    "y"
   ]
  },
  {
   "cell_type": "code",
   "execution_count": 88,
   "id": "6b23a2d6-ab43-4a8f-9877-43ea8f20bcd5",
   "metadata": {},
   "outputs": [
    {
     "data": {
      "text/plain": [
       "array(['Hello Nabeed How are you'], dtype='<U24')"
      ]
     },
     "execution_count": 88,
     "metadata": {},
     "output_type": "execute_result"
    }
   ],
   "source": [
    "arr1 = np.array(['Hello Nabeed How are you'])\n",
    "arr1"
   ]
  },
  {
   "cell_type": "code",
   "execution_count": 91,
   "id": "7a640d4c-983f-4add-88ae-2b8206436258",
   "metadata": {},
   "outputs": [],
   "source": [
    "np.savetxt(\"hello.txt\",arr1,fmt='%s') #agr datatype number nhi str haui tu format krna parhta"
   ]
  },
  {
   "cell_type": "code",
   "execution_count": 93,
   "id": "46fb609e-af6f-4a24-bb95-e928d4c64470",
   "metadata": {},
   "outputs": [
    {
     "data": {
      "text/plain": [
       "array(['Hello', 'Nabeed', 'How', 'are', 'you'], dtype='<U6')"
      ]
     },
     "execution_count": 93,
     "metadata": {},
     "output_type": "execute_result"
    }
   ],
   "source": [
    "y = np.loadtxt(\"hello.txt\",dtype=str)\n",
    "y"
   ]
  },
  {
   "cell_type": "code",
   "execution_count": 95,
   "id": "2c3a192c-3aa2-4ed6-b328-c7de5dc64665",
   "metadata": {},
   "outputs": [
    {
     "data": {
      "text/plain": [
       "array([[ 0,  1,  2,  3],\n",
       "       [ 4,  5,  6,  7],\n",
       "       [ 8,  9, 10, 11]])"
      ]
     },
     "execution_count": 95,
     "metadata": {},
     "output_type": "execute_result"
    }
   ],
   "source": [
    "#nditer function:\n",
    "a = np.arange(12).reshape(3,4)\n",
    "a"
   ]
  },
  {
   "cell_type": "code",
   "execution_count": 96,
   "id": "9ee78f61-46b3-43bb-b4bd-f3625514f310",
   "metadata": {},
   "outputs": [
    {
     "name": "stdout",
     "output_type": "stream",
     "text": [
      "0\n",
      "1\n",
      "2\n",
      "3\n",
      "4\n",
      "5\n",
      "6\n",
      "7\n",
      "8\n",
      "9\n",
      "10\n",
      "11\n"
     ]
    }
   ],
   "source": [
    "for i in np.nditer(a,order='C'):\n",
    "    print(i)"
   ]
  },
  {
   "cell_type": "code",
   "execution_count": 97,
   "id": "31c863fe-215d-4dbf-9e1e-31381fb43cd3",
   "metadata": {},
   "outputs": [
    {
     "name": "stdout",
     "output_type": "stream",
     "text": [
      "0\n",
      "4\n",
      "8\n",
      "1\n",
      "5\n",
      "9\n",
      "2\n",
      "6\n",
      "10\n",
      "3\n",
      "7\n",
      "11\n"
     ]
    }
   ],
   "source": [
    "for i in np.nditer(a,order='F'): #is order se columns print honge F is Fortran, while above C se rows vice honge\n",
    "    print(i)"
   ]
  },
  {
   "cell_type": "code",
   "execution_count": 98,
   "id": "caf5ff58-b754-444a-afd9-ac0b0bbb212c",
   "metadata": {},
   "outputs": [
    {
     "data": {
      "text/plain": [
       "array([[ 0,  1,  2,  3],\n",
       "       [ 4,  5,  6,  7],\n",
       "       [ 8,  9, 10, 11]])"
      ]
     },
     "execution_count": 98,
     "metadata": {},
     "output_type": "execute_result"
    }
   ],
   "source": [
    "a"
   ]
  },
  {
   "cell_type": "code",
   "execution_count": 101,
   "id": "62c2c958-f902-44db-b965-5f466252a9cf",
   "metadata": {},
   "outputs": [
    {
     "name": "stdout",
     "output_type": "stream",
     "text": [
      "[0 4 8]\n",
      "[1 5 9]\n",
      "[ 2  6 10]\n",
      "[ 3  7 11]\n"
     ]
    }
   ],
   "source": [
    "#if you want ke phele columns print ho like [0,4,8] etc\n",
    "for i in np.nditer(a,order=\"F\",flags=[\"external_loop\"]):\n",
    "    print(i)"
   ]
  },
  {
   "cell_type": "code",
   "execution_count": 103,
   "id": "eb313abe-d3b8-4e52-a912-a4da2b1738ab",
   "metadata": {},
   "outputs": [],
   "source": [
    "#if agr on the running time array ke element ko modify ho so, op_flag ke readwrite se on the running time mofify krskteai\n",
    "for x in np.nditer(a,op_flags=['readwrite']):\n",
    "    x[...] = x*x"
   ]
  },
  {
   "cell_type": "code",
   "execution_count": 104,
   "id": "81e79088-299d-43d6-b84a-b4df801bcf66",
   "metadata": {},
   "outputs": [
    {
     "data": {
      "text/plain": [
       "array([[  0,   1,   4,   9],\n",
       "       [ 16,  25,  36,  49],\n",
       "       [ 64,  81, 100, 121]])"
      ]
     },
     "execution_count": 104,
     "metadata": {},
     "output_type": "execute_result"
    }
   ],
   "source": [
    "a"
   ]
  },
  {
   "cell_type": "code",
   "execution_count": 109,
   "id": "d4b34697-160e-4325-b48d-8c88f2d13236",
   "metadata": {},
   "outputs": [
    {
     "data": {
      "text/plain": [
       "array([[ 3],\n",
       "       [ 7],\n",
       "       [11]])"
      ]
     },
     "execution_count": 109,
     "metadata": {},
     "output_type": "execute_result"
    }
   ],
   "source": [
    "#if you want ko iterate 2 arrays simultaneously\n",
    "b = np.arange(3,12,4).reshape(3,1)\n",
    "b"
   ]
  },
  {
   "cell_type": "code",
   "execution_count": 110,
   "id": "dbc6f0cd-bbfa-4c3b-89b1-eda90f724313",
   "metadata": {},
   "outputs": [
    {
     "name": "stdout",
     "output_type": "stream",
     "text": [
      "0 3\n",
      "1 3\n",
      "4 3\n",
      "9 3\n",
      "16 7\n",
      "25 7\n",
      "36 7\n",
      "49 7\n",
      "64 11\n",
      "81 11\n",
      "100 11\n",
      "121 11\n"
     ]
    }
   ],
   "source": [
    "for x,y in np.nditer([a,b]): \n",
    "    print(x,y)"
   ]
  },
  {
   "cell_type": "code",
   "execution_count": 118,
   "id": "8a5fbd3f-f132-46d9-bc7a-42cd1e6ae6b5",
   "metadata": {},
   "outputs": [
    {
     "data": {
      "text/plain": [
       "array([[ 3],\n",
       "       [ 6],\n",
       "       [ 9],\n",
       "       [12]])"
      ]
     },
     "execution_count": 118,
     "metadata": {},
     "output_type": "execute_result"
    }
   ],
   "source": [
    "#agr shape of both array is not same so it will not iterate and generate an error\n",
    "b = np.arange(3,13,3).reshape(4,1)\n",
    "b"
   ]
  },
  {
   "cell_type": "code",
   "execution_count": null,
   "id": "449f0388-060e-4bdf-89c0-7e2ce9e03936",
   "metadata": {},
   "outputs": [],
   "source": []
  }
 ],
 "metadata": {
  "kernelspec": {
   "display_name": "Python 3 (ipykernel)",
   "language": "python",
   "name": "python3"
  },
  "language_info": {
   "codemirror_mode": {
    "name": "ipython",
    "version": 3
   },
   "file_extension": ".py",
   "mimetype": "text/x-python",
   "name": "python",
   "nbconvert_exporter": "python",
   "pygments_lexer": "ipython3",
   "version": "3.11.5"
  }
 },
 "nbformat": 4,
 "nbformat_minor": 5
}
